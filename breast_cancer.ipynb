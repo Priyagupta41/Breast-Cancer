import os
from keras.models import Sequential
from keras.layers import Conv2D, MaxPooling2D, Flatten, Dense, Dropout
#from keras.preprocessing.image import ImageDataGenerator
from tensorflow.keras.preprocessing.image import ImageDataGenerator
from keras.models import load_model

train_dir = 'C:/breast_cancer/DataSet/train'
val_dir = 'C:/breast_cancer/DataSet/val'
test_dir = 'C:/breast_cancer/DataSet/test'

datagen=ImageDataGenerator(rescale=1.0/255)
train_data = datagen.flow_from_directory(
    train_dir,
    target_size=(224, 224),
    class_mode='binary',
    batch_size=32
)
val_data = datagen.flow_from_directory(
    val_dir,
    target_size=(224, 224),
    class_mode='binary',
    batch_size=32
)

test_data = datagen.flow_from_directory(
    test_dir,
    target_size=(224, 224),
    class_mode='binary',
    batch_size=32
)

print("Training Images:", train_data.samples)
print("Validation Images:", val_data.samples)
print("Testing Images:", test_data.samples)

# 🔽 Place the class count code right here 🔽
import numpy as np

# For training data
train_labels = train_data.classes
train_class_counts = dict(zip(train_data.class_indices.keys(), 
                              [np.sum(train_labels == v) for v in train_data.class_indices.values()]))

# For validation data
val_labels = val_data.classes
val_class_counts = dict(zip(val_data.class_indices.keys(), 
                            [np.sum(val_labels == v) for v in val_data.class_indices.values()]))

# For test data
test_labels = test_data.classes
test_class_counts = dict(zip(test_data.class_indices.keys(), 
                             [np.sum(test_labels == v) for v in test_data.class_indices.values()]))
# Print results
print("Training Images Total:", train_data.samples)
print("Training Class Distribution:", train_class_counts)

print("\nValidation Images Total:", val_data.samples)
print("Validation Class Distribution:", val_class_counts)

print("\nTesting Images Total:", test_data.samples)
print("Testing Class Distribution:", test_class_counts)

model = Sequential([
    Conv2D(32, (3, 3), activation='relu', input_shape=(224, 224, 3)),
    MaxPooling2D(pool_size=(2, 2)),
    Conv2D(64, (3, 3), activation='relu'),
    MaxPooling2D(pool_size=(2, 2)),
    Flatten(),
    Dense(128, activation='relu'),
    Dropout(0.5),
    Dense(1, activation='sigmoid')  # Binary classification
])

model.compile(optimizer='adam', loss='binary_crossentropy', metrics=['accuracy'])

history = model.fit(
    train_data,
    validation_data=val_data,
    epochs=10,
    verbose=1
)

model.summary()

model.save('Breast_Cancer_model.h5')
print("Model saved as 'model.h5'.")

import matplotlib.pyplot as plt

plt.figure(figsize=(12, 6))

#Accuracy Plot using matplot lib
plt.subplot(1, 2, 1)
plt.plot(history.history['accuracy'], label='Training Accuracy')
plt.plot(history.history['val_accuracy'], label='Validation Accuracy')
plt.title('Training and Validation Accuracy')
plt.xlabel('Epochs')
plt.ylabel('Accuracy')
plt.legend()

# Loss plot using matplot lib
plt.subplot(1, 2, 2)
plt.plot(history.history['loss'], label='Training Loss')
plt.plot(history.history['val_loss'], label='Validation Loss')
plt.title('Training and Validation Loss')
plt.xlabel('Epochs')
plt.ylabel('Loss')
plt.legend()

plt.show()

plt.savefig('training_plot.png')

import seaborn as sns
import numpy as np
import matplotlib.pyplot as plt

# Set Seaborn styles
sns.set(style="whitegrid", rc={'figure.figsize':(11.7, 8.27)})

# Plot training and validation accuracy
plt.plot(
    np.arange(1, len(history.history['accuracy']) + 1, 1),
    history.history['accuracy'], 
    color='navy', 
    label='Training Accuracy'
)
plt.plot(
    np.arange(1, len(history.history['val_accuracy']) + 1, 1),
    history.history['val_accuracy'], 
    color='red', 
    label='Validation Accuracy'
)
plt.title('Training and Validation Accuracy')
plt.xlabel('Epochs')
plt.ylabel('Accuracy')
plt.legend()
plt.show()

from sklearn.metrics import confusion_matrix, ConfusionMatrixDisplay

# Predict on test data
test_preds = model.predict(test_data)
test_preds = (test_preds > 0.5).astype(int).flatten()

# True labels
true_labels = test_data.classes

# Confusion Matrix
cm = confusion_matrix(true_labels, test_preds)
disp = ConfusionMatrixDisplay(confusion_matrix=cm, display_labels=test_data.class_indices.keys())
disp.plot(cmap='Blues')
plt.title('Confusion Matrix')
plt.show()

from sklearn.metrics import classification_report

print("Classification Report:")
print(classification_report(true_labels, test_preds, target_names=list(test_data.class_indices.keys())))

from sklearn.metrics import roc_curve, auc

# ROC
fpr, tpr, _ = roc_curve(true_labels, test_preds)
roc_auc = auc(fpr, tpr)

plt.figure()
plt.plot(fpr, tpr, color='darkorange', lw=2, label=f'ROC Curve (AUC = {roc_auc:.2f})')
plt.plot([0, 1], [0, 1], color='navy', lw=2, linestyle='--')
plt.xlim([0.0, 1.0])
plt.ylim([0.0, 1.05])
plt.xlabel('False Positive Rate')
plt.ylabel('True Positive Rate')
plt.title('Receiver Operating Characteristic (ROC)')
plt.legend(loc='lower right')
plt.grid(True)
plt.show()

plt.figure(figsize=(6, 4))
sns.histplot(test_preds, bins=2, kde=False)
plt.title("Distribution of Predictions (0: Benign, 1: Malignant)")
plt.xlabel("Predicted Class")
plt.ylabel("Count")
plt.xticks([0, 1])
plt.grid(True)
plt.show()

import seaborn as sns
import matplotlib.pyplot as plt
from sklearn.metrics import confusion_matrix

# Predict on test data
test_preds = model.predict(test_data)
test_preds = (test_preds > 0.5).astype(int).flatten()
true_labels = test_data.classes

# Generate the confusion matrix
cm = confusion_matrix(true_labels, test_preds)

# Plot confusion matrix as heatmap
plt.figure(figsize=(6, 4))
sns.heatmap(cm, annot=True, fmt='d', cmap='YlGnBu', xticklabels=test_data.class_indices.keys(), yticklabels=test_data.class_indices.keys())
plt.title('Confusion Matrix Heatmap')
plt.xlabel('Predicted Labels')
plt.ylabel('True Labels')
plt.show()


