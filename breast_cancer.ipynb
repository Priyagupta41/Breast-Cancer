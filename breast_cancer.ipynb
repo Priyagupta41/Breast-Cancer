import os
from keras.models import Sequential
from keras.layers import Conv2D, MaxPooling2D, Flatten, Dense, Dropout
#from keras.preprocessing.image import ImageDataGenerator
from tensorflow.keras.preprocessing.image import ImageDataGenerator
from keras.models import load_model

train_dir = 'C:/breast_cancer/DataSet/train'
val_dir = 'C:/breast_cancer/DataSet/val'
test_dir = 'C:/breast_cancer/DataSet/test'

datagen=ImageDataGenerator(rescale=1.0/255)
train_data = datagen.flow_from_directory(
    train_dir,
    target_size=(224, 224),
    class_mode='binary',
    batch_size=32
)
val_data = datagen.flow_from_directory(
    val_dir,
    target_size=(224, 224),
    class_mode='binary',
    batch_size=32
)

test_data = datagen.flow_from_directory(
    test_dir,
    target_size=(224, 224),
    class_mode='binary',
    batch_size=32
)

print("Training Images:", train_data.samples)
print("Validation Images:", val_data.samples)
print("Testing Images:", test_data.samples)

# 🔽 Place the class count code right here 🔽
import numpy as np

# For training data
train_labels = train_data.classes
train_class_counts = dict(zip(train_data.class_indices.keys(), 
                              [np.sum(train_labels == v) for v in train_data.class_indices.values()]))

# For validation data
val_labels = val_data.classes
val_class_counts = dict(zip(val_data.class_indices.keys(), 
                            [np.sum(val_labels == v) for v in val_data.class_indices.values()]))

# For test data
test_labels = test_data.classes
test_class_counts = dict(zip(test_data.class_indices.keys(), 
                             [np.sum(test_labels == v) for v in test_data.class_indices.values()]))
